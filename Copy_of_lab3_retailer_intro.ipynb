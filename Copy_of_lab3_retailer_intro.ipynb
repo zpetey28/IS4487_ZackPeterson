{
  "cells": [
    {
      "cell_type": "markdown",
      "metadata": {
        "id": "view-in-github",
        "colab_type": "text"
      },
      "source": [
        "<a href=\"https://colab.research.google.com/github/zpetey28/IS4487_ZackPeterson/blob/main/Copy_of_lab3_retailer_intro.ipynb\" target=\"_parent\"><img src=\"https://colab.research.google.com/assets/colab-badge.svg\" alt=\"Open In Colab\"/></a>"
      ]
    },
    {
      "cell_type": "markdown",
      "metadata": {
        "id": "WgqjODeUs5k-"
      },
      "source": [
        "# IS 4487 Lab 3\n",
        "\n",
        "## Outline\n",
        "\n",
        "Repeat exercises from Lab 2, but with the *SuperStore Retail Orders* dataset\n",
        "- Loading installed packages\n",
        "- Inspect data\n",
        "- Explore plot types\n",
        "\n",
        "<a href=\"https://colab.research.google.com/github/Stan-Pugsley/is_4487_base/blob/main/Labs/Scripts/lab3_retailer_intro.ipynb\" target=\"_parent\"><img src=\"https://colab.research.google.com/assets/colab-badge.svg\" alt=\"Open In Colab\"/></a>"
      ]
    },
    {
      "cell_type": "code",
      "source": [
        "from google.colab import drive\n",
        "drive.mount('/content/drive')"
      ],
      "metadata": {
        "colab": {
          "base_uri": "https://localhost:8080/"
        },
        "id": "7pMcNUPTtYmE",
        "outputId": "61958b81-fc90-4717-d18d-fea39e64d159"
      },
      "execution_count": 1,
      "outputs": [
        {
          "output_type": "stream",
          "name": "stdout",
          "text": [
            "Drive already mounted at /content/drive; to attempt to forcibly remount, call drive.mount(\"/content/drive\", force_remount=True).\n"
          ]
        }
      ]
    },
    {
      "cell_type": "markdown",
      "metadata": {
        "id": "dZiPIph0s5lh"
      },
      "source": [
        "## Load Libraries\n",
        "\n",
        "➡️ Assignment Tasks\n",
        "- Load any necessary libraries"
      ]
    },
    {
      "cell_type": "code",
      "execution_count": 2,
      "metadata": {
        "vscode": {
          "languageId": "plaintext"
        },
        "id": "0VgmtrCws5lv"
      },
      "outputs": [],
      "source": [
        "import pandas as pd"
      ]
    },
    {
      "cell_type": "markdown",
      "metadata": {
        "id": "S0G3vIW1s5l2"
      },
      "source": [
        "## Import Data into Dataframe\n",
        "\n",
        "➡️ Assignment Tasks\n",
        "- Import data from the SuperStore retail dataset into a dataframe (in GitHub go to Labs > DataSets)\n",
        "- Describe or profile the dataframe"
      ]
    },
    {
      "cell_type": "code",
      "execution_count": 3,
      "metadata": {
        "vscode": {
          "languageId": "plaintext"
        },
        "id": "HN7Ie_BQs5l_",
        "colab": {
          "base_uri": "https://localhost:8080/"
        },
        "outputId": "74c4c22b-b3df-4e1c-f5ef-966bfc26c41e"
      },
      "outputs": [
        {
          "output_type": "stream",
          "name": "stdout",
          "text": [
            "   customer_id      customer_name        address_line_1        city  \\\n",
            "0           67      Gordy Matteau   59 Northland Circle  Wilmington   \n",
            "1          201     Cort Paskerful       769 Buell Drive  Huntsville   \n",
            "2           45    Willetta Lumley     41 Ridgeway Alley      Irvine   \n",
            "3          106   Alison Batterton         489 Erie Hill    Richmond   \n",
            "4          357  Martelle Paxeford  451 Manitowish Place    Richmond   \n",
            "\n",
            "  state_province  postal_code  order_id  order_date  customer_id.1  \\\n",
            "0            DE       19805.0      1001  2020-01-11             67   \n",
            "1            AL       35810.0      1002  2019-11-22            201   \n",
            "2            CA       92612.0      1003  2019-09-17             45   \n",
            "3            VA       23293.0      1004  2019-12-09            106   \n",
            "4            VA       23293.0      1005  2019-06-08            357   \n",
            "\n",
            "   order_id.1  product_id  quantity  product_id.1       product_name  \\\n",
            "0        1001         106       3.0           106  Great value Juice   \n",
            "1        1002         104       2.0           104               Desk   \n",
            "2        1003         107       5.0           107     Dove deodorant   \n",
            "3        1004         106       8.0           106  Great value Juice   \n",
            "4        1005         107       7.0           107     Dove deodorant   \n",
            "\n",
            "  product_price total_amount order_year_month order_month  \n",
            "0         $1.99        $5.97          2020-01    January   \n",
            "1        $85.98      $171.96          2019-11   November   \n",
            "2         $3.99       $19.95          2019-09   September  \n",
            "3         $1.99       $15.92          2019-12   December   \n",
            "4         $3.99       $27.93          2019-06       June   \n",
            "       customer_id   postal_code     order_id  customer_id.1   order_id.1  \\\n",
            "count  9569.000000   9416.000000  9569.000000    9569.000000  9569.000000   \n",
            "mean    282.910962  52225.007116  5107.539450     282.910962  5107.539450   \n",
            "std     199.763947  29619.544418  2043.449403     199.763947  2043.449403   \n",
            "min       1.000000   1105.000000  1001.000000       1.000000  1001.000000   \n",
            "25%     127.000000  27409.000000  3393.000000     127.000000  3393.000000   \n",
            "50%     253.000000  48295.000000  5577.000000     253.000000  5577.000000   \n",
            "75%     376.000000  79923.000000  6829.000000     376.000000  6829.000000   \n",
            "max     800.000000  99812.000000  8147.000000     800.000000  8147.000000   \n",
            "\n",
            "        product_id     quantity  product_id.1  \n",
            "count  9569.000000  9513.000000   9569.000000  \n",
            "mean    106.736650     3.453380    106.736650  \n",
            "std       3.694805     4.393894      3.694805  \n",
            "min     101.000000     1.000000    101.000000  \n",
            "25%     104.000000     1.000000    104.000000  \n",
            "50%     107.000000     1.000000    107.000000  \n",
            "75%     110.000000     4.000000    110.000000  \n",
            "max     114.000000    20.000000    114.000000  \n"
          ]
        }
      ],
      "source": [
        "\n",
        "file_path = '/content/drive/MyDrive/Colab Notebooks/Data_Analytics/Lab 3/superstore_retail_orders.csv'\n",
        "\n",
        "# Reading the dataset into a pandas dataframe.\n",
        "df = pd.read_csv(file_path)\n",
        "\n",
        "# Display the first few rows of the dataframe.\n",
        "print(df.head())\n",
        "\n",
        "# Basic description of the dataframe.\n",
        "print(df.describe())"
      ]
    },
    {
      "cell_type": "markdown",
      "metadata": {
        "id": "G-cLiyCXs5mC"
      },
      "source": [
        "## Prepare Data\n",
        "\n",
        "➡️ Assignment Tasks\n",
        "- Convert the Total_Amount into a number (not a string)\n",
        "- Remove rows with empty (NULL) values\n",
        "- Optional: Locate outliers in any of the variables.   Filter them out if they are mistakes; keep them if they are exceptional cases."
      ]
    },
    {
      "cell_type": "code",
      "execution_count": 4,
      "metadata": {
        "vscode": {
          "languageId": "plaintext"
        },
        "id": "BTeDmpois5mJ",
        "colab": {
          "base_uri": "https://localhost:8080/"
        },
        "outputId": "2b896557-3ad6-49fa-832f-b1bd10fc93fa"
      },
      "outputs": [
        {
          "output_type": "stream",
          "name": "stdout",
          "text": [
            "   customer_id      customer_name        address_line_1        city  \\\n",
            "0           67      Gordy Matteau   59 Northland Circle  Wilmington   \n",
            "1          201     Cort Paskerful       769 Buell Drive  Huntsville   \n",
            "2           45    Willetta Lumley     41 Ridgeway Alley      Irvine   \n",
            "3          106   Alison Batterton         489 Erie Hill    Richmond   \n",
            "4          357  Martelle Paxeford  451 Manitowish Place    Richmond   \n",
            "\n",
            "  state_province  postal_code  order_id  order_date  customer_id.1  \\\n",
            "0            DE       19805.0      1001  2020-01-11             67   \n",
            "1            AL       35810.0      1002  2019-11-22            201   \n",
            "2            CA       92612.0      1003  2019-09-17             45   \n",
            "3            VA       23293.0      1004  2019-12-09            106   \n",
            "4            VA       23293.0      1005  2019-06-08            357   \n",
            "\n",
            "   order_id.1  product_id  quantity  product_id.1       product_name  \\\n",
            "0        1001         106       3.0           106  Great value Juice   \n",
            "1        1002         104       2.0           104               Desk   \n",
            "2        1003         107       5.0           107     Dove deodorant   \n",
            "3        1004         106       8.0           106  Great value Juice   \n",
            "4        1005         107       7.0           107     Dove deodorant   \n",
            "\n",
            "  product_price  total_amount order_year_month order_month  \n",
            "0         $1.99          5.97          2020-01    January   \n",
            "1        $85.98        171.96          2019-11   November   \n",
            "2         $3.99         19.95          2019-09   September  \n",
            "3         $1.99         15.92          2019-12   December   \n",
            "4         $3.99         27.93          2019-06       June   \n",
            "       customer_id   postal_code     order_id  customer_id.1   order_id.1  \\\n",
            "count  8768.000000   8768.000000  8768.000000    8768.000000  8768.000000   \n",
            "mean    268.838846  52211.691834  4993.642678     268.838846  4993.642678   \n",
            "std     190.387498  29690.256129  2032.525375     190.387498  2032.525375   \n",
            "min       1.000000   1105.000000  1001.000000       1.000000  1001.000000   \n",
            "25%     121.000000  27404.000000  3272.750000     121.000000  3272.750000   \n",
            "50%     243.000000  48295.000000  5450.500000     243.000000  5450.500000   \n",
            "75%     363.000000  79923.000000  6689.250000     363.000000  6689.250000   \n",
            "max     800.000000  99812.000000  8147.000000     800.000000  8147.000000   \n",
            "\n",
            "        product_id     quantity  product_id.1  total_amount  \n",
            "count  8768.000000  8768.000000   8768.000000   8768.000000  \n",
            "mean    106.732208     3.377053    106.732208    313.472843  \n",
            "std       3.658348     4.290116      3.658348    322.533974  \n",
            "min     101.000000     1.000000    101.000000      1.990000  \n",
            "25%     104.000000     1.000000    104.000000     55.990000  \n",
            "50%     107.000000     1.000000    107.000000    132.515000  \n",
            "75%     110.000000     4.000000    110.000000    485.000000  \n",
            "max     114.000000    20.000000    114.000000    988.720000  \n"
          ]
        },
        {
          "output_type": "stream",
          "name": "stderr",
          "text": [
            "<ipython-input-4-fb746e050823>:3: FutureWarning: The default value of regex will change from True to False in a future version. In addition, single character regular expressions will *not* be treated as literal strings when regex=True.\n",
            "  df['total_amount'] = pd.to_numeric(df['total_amount'].str.replace('$', ''), errors='coerce')\n"
          ]
        }
      ],
      "source": [
        "\n",
        "\n",
        "# Remove the dollar sign from 'total_amount' and convert to float, then to integer.\n",
        "df['total_amount'] = df['total_amount'].astype(str)\n",
        "df['total_amount'] = pd.to_numeric(df['total_amount'].str.replace('$', ''), errors='coerce')\n",
        "df['total_amount'] = df['total_amount'].astype(float)\n",
        "# Remove rows with any NULL values.\n",
        "df.dropna(inplace=True)\n",
        "\n",
        "# Display the first few rows of the updated dataframe.\n",
        "print(df.head())\n",
        "\n",
        "# Basic description of the updated dataframe.\n",
        "print(df.describe())\n"
      ]
    },
    {
      "cell_type": "markdown",
      "metadata": {
        "id": "kSx7LaARs5mP"
      },
      "source": [
        "## Summarize Data\n",
        "\n",
        "➡️ Assignment Tasks\n",
        "- Display the average price per month\n",
        "- Display the total revenue for all months"
      ]
    },
    {
      "cell_type": "code",
      "execution_count": 5,
      "metadata": {
        "vscode": {
          "languageId": "plaintext"
        },
        "id": "hJO_bB4Qs5mY",
        "colab": {
          "base_uri": "https://localhost:8080/"
        },
        "outputId": "a2665f22-03fd-4471-f5df-bf6f9dbf082c"
      },
      "outputs": [
        {
          "output_type": "execute_result",
          "data": {
            "text/plain": [
              "<bound method NDFrame.describe of       customer_id      customer_name        address_line_1          city  \\\n",
              "0              67      Gordy Matteau   59 Northland Circle    Wilmington   \n",
              "1             201     Cort Paskerful       769 Buell Drive    Huntsville   \n",
              "2              45    Willetta Lumley     41 Ridgeway Alley        Irvine   \n",
              "3             106   Alison Batterton         489 Erie Hill      Richmond   \n",
              "4             357  Martelle Paxeford  451 Manitowish Place      Richmond   \n",
              "...           ...                ...                   ...           ...   \n",
              "9561          240     Barnard Hatley        5541 Kim Alley        Duluth   \n",
              "9565          370    Darby Tesseyman   7468 Jackson Circle        Albany   \n",
              "9566          598   Henka De Ferrari    89 Sunnyside Drive  Redwood City   \n",
              "9567          737    Tommie Penvarne  9630 Washington Hill     Watertown   \n",
              "9568          482       Matelda Bull    6406 Bultman Alley  Gaithersburg   \n",
              "\n",
              "      state_province  postal_code  order_id  order_date  customer_id.1  \\\n",
              "0                DE       19805.0      1001  2020-01-11             67   \n",
              "1                AL       35810.0      1002  2019-11-22            201   \n",
              "2                CA       92612.0      1003  2019-09-17             45   \n",
              "3                VA       23293.0      1004  2019-12-09            106   \n",
              "4                VA       23293.0      1005  2019-06-08            357   \n",
              "...              ...          ...       ...         ...            ...   \n",
              "9561             GA       30195.0      8140  2021-03-04            240   \n",
              "9565             NY       12210.0      8144  2021-06-16            370   \n",
              "9566     California       94064.0      8145  2021-05-09            598   \n",
              "9567  Massachusetts        2472.0      8146  2021-04-13            737   \n",
              "9568       Maryland       20883.0      8147  2021-03-21            482   \n",
              "\n",
              "      order_id.1  product_id  quantity  product_id.1            product_name  \\\n",
              "0           1001         106       3.0           106       Great value Juice   \n",
              "1           1002         104       2.0           104                    Desk   \n",
              "2           1003         107       5.0           107          Dove deodorant   \n",
              "3           1004         106       8.0           106       Great value Juice   \n",
              "4           1005         107       7.0           107          Dove deodorant   \n",
              "...          ...         ...       ...           ...                     ...   \n",
              "9561        8140         110       1.0           110         Apple iPad Mini   \n",
              "9565        8144         109       1.0           109  Samsung Galaxy Note 10   \n",
              "9566        8145         110       1.0           110         Apple iPad Mini   \n",
              "9567        8146         113       2.0           113          Extension cord   \n",
              "9568        8147         113       5.0           113          Extension cord   \n",
              "\n",
              "      product_price  total_amount order_year_month order_month  \n",
              "0              1.99          5.97          2020-01    January   \n",
              "1             85.98        171.96          2019-11   November   \n",
              "2              3.99         19.95          2019-09   September  \n",
              "3              1.99         15.92          2019-12   December   \n",
              "4              3.99         27.93          2019-06       June   \n",
              "...             ...           ...              ...         ...  \n",
              "9561         329.99        329.99          2021-03      March   \n",
              "9565         749.99        749.99          2021-06       June   \n",
              "9566         329.99        329.99          2021-05        May   \n",
              "9567          15.59         31.18          2021-04      April   \n",
              "9568          15.59         77.95          2021-03      March   \n",
              "\n",
              "[8768 rows x 18 columns]>"
            ]
          },
          "metadata": {},
          "execution_count": 5
        }
      ],
      "source": [
        "#average price\n",
        "df['product_price'] = df['product_price'].replace('[\\$,]', '', regex=True).astype(float)\n",
        "\n",
        "average_price_per_month = df.groupby('order_month')['product_price'].mean().reset_index()\n",
        "\n",
        "average_price_per_month\n",
        "\n",
        "df.describe\n"
      ]
    },
    {
      "cell_type": "code",
      "execution_count": 6,
      "metadata": {
        "vscode": {
          "languageId": "plaintext"
        },
        "id": "9fVwc5MZs5mf",
        "colab": {
          "base_uri": "https://localhost:8080/"
        },
        "outputId": "b95a78a6-41bb-4f3e-f9f1-f15c8c644565"
      },
      "outputs": [
        {
          "output_type": "stream",
          "name": "stdout",
          "text": [
            "The total revenue of 'total_amount(sum)' column is: $ 2748529.89\n"
          ]
        }
      ],
      "source": [
        "#total revenue\n",
        "df = df.rename(columns={'total_amount': 'total_amount(sum)'})\n",
        "\n",
        "# Calculate the sum of the renamed column\n",
        "total_rev = df['total_amount(sum)'].sum()\n",
        "\n",
        "print(\"The total revenue of 'total_amount(sum)' column is: $\", total_rev)"
      ]
    }
  ],
  "metadata": {
    "language_info": {
      "name": "python"
    },
    "colab": {
      "provenance": [],
      "include_colab_link": true
    },
    "kernelspec": {
      "name": "python3",
      "display_name": "Python 3"
    }
  },
  "nbformat": 4,
  "nbformat_minor": 0
}